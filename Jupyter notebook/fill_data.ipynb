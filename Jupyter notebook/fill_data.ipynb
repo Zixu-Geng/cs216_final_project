{
 "cells": [
  {
   "cell_type": "code",
   "execution_count": 87,
   "metadata": {},
   "outputs": [],
   "source": [
    "\n",
    "import pandas as pd\n",
    "import numpy as np\n",
    "import os\n",
    "from sklearn.linear_model import LinearRegression\n",
    "from sklearn.metrics import mean_squared_error\n",
    "from sklearn.metrics import r2_score\n",
    "import matplotlib.pyplot as plt"
   ]
  },
  {
   "cell_type": "code",
   "execution_count": 155,
   "metadata": {},
   "outputs": [],
   "source": [
    "def read_data():\n",
    "    data_lst = []\n",
    "\n",
    "    for info in os.listdir(\"train_data\"): \n",
    "\n",
    "        if info == \".DS_Store\":\n",
    "            continue\n",
    "        domain = os.path.abspath(r\"train_data\")\n",
    "        output = os.path.abspath(r\"fill_data\")\n",
    "        \n",
    "        dirc = os.path.join(domain,info)\n",
    "      \n",
    "        data = pd.read_csv(dirc)\n",
    "        data = fill_data(data)\n",
    "        \n",
    "        output_dirc  = os.path.join(r\"fill_data\", info)\n",
    "\n",
    "        data.to_csv(output_dirc,sep=',',index=True,header=True)\n",
    "\n",
    "data_lst = read_data()"
   ]
  },
  {
   "cell_type": "code",
   "execution_count": 141,
   "metadata": {},
   "outputs": [],
   "source": [
    "def fill_data(data):\n",
    "    loc_lst = data['Location'].unique()\n",
    "    predict_X = np.array([2015,2016,2017,2018,2019,2020,2021]).reshape(7,1)\n",
    "    all_data = pd.DataFrame()\n",
    "    for loc in loc_lst:\n",
    "        temp = Health[Health['Location'] == loc]\n",
    "        temp = temp.groupby('Period').mean()\n",
    "        if(temp.shape[0] <3):\n",
    "            continue\n",
    "        else:\n",
    "            data = np.array(temp.index)\n",
    "            X = data.reshape(data.shape[0],1)\n",
    "            Y = temp['First Tooltip'].values\n",
    "            poly = PolynomialFeatures(degree=2)\n",
    "            poly.fit(X)\n",
    "            X2 = poly.transform(X)\n",
    "            lin_reg2 = LinearRegression()\n",
    "            lin_reg2.fit(X2, Y)\n",
    "            predict_X2 = poly.transform(predict_X)\n",
    "            y_predict2 = lin_reg2.predict(predict_X2)    \n",
    "            dic = {'First Tooltip':y_predict2, 'Location': np.array([loc]*7), 'Year': np.array([2015,2016,2017,2018,2019,2020,2021])}\n",
    "            result = pd.DataFrame(dic)  \n",
    "            all_data = pd.concat([all_data, result])\n",
    "    return all_data"
   ]
  },
  {
   "cell_type": "code",
   "execution_count": 146,
   "metadata": {},
   "outputs": [
    {
     "data": {
      "text/plain": [
       "'/Users/zxg/Jupyter notebook/CS216/final'"
      ]
     },
     "execution_count": 146,
     "metadata": {},
     "output_type": "execute_result"
    }
   ],
   "source": [
    "os.getcwd()"
   ]
  },
  {
   "cell_type": "code",
   "execution_count": 96,
   "metadata": {},
   "outputs": [],
   "source": [
    "outputpath = \"cleaning iML1515_Sabio.csv\"\n",
    "km.to_csv(outputpath,sep=',',index=True,header=True)"
   ]
  },
  {
   "cell_type": "code",
   "execution_count": null,
   "metadata": {},
   "outputs": [],
   "source": []
  },
  {
   "cell_type": "code",
   "execution_count": null,
   "metadata": {},
   "outputs": [],
   "source": []
  },
  {
   "cell_type": "code",
   "execution_count": null,
   "metadata": {},
   "outputs": [],
   "source": []
  },
  {
   "cell_type": "code",
   "execution_count": null,
   "metadata": {},
   "outputs": [],
   "source": []
  }
 ],
 "metadata": {
  "kernelspec": {
   "display_name": "Python 3",
   "language": "python",
   "name": "python3"
  },
  "language_info": {
   "codemirror_mode": {
    "name": "ipython",
    "version": 3
   },
   "file_extension": ".py",
   "mimetype": "text/x-python",
   "name": "python",
   "nbconvert_exporter": "python",
   "pygments_lexer": "ipython3",
   "version": "3.7.6"
  }
 },
 "nbformat": 4,
 "nbformat_minor": 4
}
