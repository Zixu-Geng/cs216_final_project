{
 "cells": [
  {
   "cell_type": "code",
   "execution_count": 2,
   "metadata": {},
   "outputs": [],
   "source": [
    "\n",
    "import pandas as pd\n",
    "import numpy as np\n",
    "import os\n",
    "import statsmodels.api as sm\n",
    "from statsmodels.tsa.stattools import adfuller\n",
    "from matplotlib import pyplot as plt\n",
    "from statsmodels.tsa.arima_model import ARIMA\n",
    "\n",
    "\n"
   ]
  },
  {
   "cell_type": "code",
   "execution_count": 3,
   "metadata": {},
   "outputs": [],
   "source": [
    "def read_data():\n",
    "    data_lst = []\n",
    "\n",
    "    for info in os.listdir(\"train_data\"): \n",
    "\n",
    "        if info == \".DS_Store\":\n",
    "            continue\n",
    "        domain = os.path.abspath(r\"train_data\")\n",
    "        dirc = os.path.join(domain,info)\n",
    "        data = pd.read_csv(dirc)\n",
    "        \n",
    "        data_lst.append([data, info])\n",
    "    return data_lst\n",
    "\n",
    "data_lst = read_data()\n"
   ]
  },
  {
   "cell_type": "code",
   "execution_count": 4,
   "metadata": {},
   "outputs": [
    {
     "data": {
      "text/html": [
       "<div>\n",
       "<style scoped>\n",
       "    .dataframe tbody tr th:only-of-type {\n",
       "        vertical-align: middle;\n",
       "    }\n",
       "\n",
       "    .dataframe tbody tr th {\n",
       "        vertical-align: top;\n",
       "    }\n",
       "\n",
       "    .dataframe thead th {\n",
       "        text-align: right;\n",
       "    }\n",
       "</style>\n",
       "<table border=\"1\" class=\"dataframe\">\n",
       "  <thead>\n",
       "    <tr style=\"text-align: right;\">\n",
       "      <th></th>\n",
       "      <th>First Tooltip</th>\n",
       "    </tr>\n",
       "    <tr>\n",
       "      <th>Period</th>\n",
       "      <th></th>\n",
       "    </tr>\n",
       "  </thead>\n",
       "  <tbody>\n",
       "    <tr>\n",
       "      <th>2000-01-01</th>\n",
       "      <td>6.556667</td>\n",
       "    </tr>\n",
       "    <tr>\n",
       "      <th>2005-01-01</th>\n",
       "      <td>7.673333</td>\n",
       "    </tr>\n",
       "    <tr>\n",
       "      <th>2010-01-01</th>\n",
       "      <td>7.713333</td>\n",
       "    </tr>\n",
       "    <tr>\n",
       "      <th>2015-01-01</th>\n",
       "      <td>6.730000</td>\n",
       "    </tr>\n",
       "    <tr>\n",
       "      <th>2018-01-01</th>\n",
       "      <td>7.160000</td>\n",
       "    </tr>\n",
       "  </tbody>\n",
       "</table>\n",
       "</div>"
      ],
      "text/plain": [
       "            First Tooltip\n",
       "Period                   \n",
       "2000-01-01       6.556667\n",
       "2005-01-01       7.673333\n",
       "2010-01-01       7.713333\n",
       "2015-01-01       6.730000\n",
       "2018-01-01       7.160000"
      ]
     },
     "execution_count": 4,
     "metadata": {},
     "output_type": "execute_result"
    }
   ],
   "source": [
    "df = pd.read_csv(\"train_data/alcoholSubstanceAbuse.csv\")\n",
    "df[\"Period\"] = pd.to_datetime(df[\"Period\"], format = \"%Y\")\n",
    "df = df.set_index(\"Period\")\n",
    "df.head(10)\n",
    "temp = df[df[\"Location\"] == \"Albania\"]\n",
    "temp = temp.groupby(\"Period\").mean()\n",
    "temp.head(10)\n",
    "\n"
   ]
  },
  {
   "cell_type": "code",
   "execution_count": null,
   "metadata": {},
   "outputs": [],
   "source": [
    "#datatime from 2015-2021\n",
    "\n",
    "lst = [i for i in range(2000,2022)]\n",
    "t = pd.DataFrame({'Period':lst})\n",
    "t[\"Period\"] = pd.to_datetime(t[\"Period\"], format = \"%Y\")\n",
    "t = t.set_index(\"Period\")"
   ]
  },
  {
   "cell_type": "markdown",
   "metadata": {},
   "source": [
    "ARIMA"
   ]
  },
  {
   "cell_type": "code",
   "execution_count": 6,
   "metadata": {},
   "outputs": [
    {
     "name": "stderr",
     "output_type": "stream",
     "text": [
      "/Users/zxg/opt/anaconda3/lib/python3.7/site-packages/statsmodels/tsa/base/tsa_model.py:218: ValueWarning: A date index has been provided, but it has no associated frequency information and so will be ignored when e.g. forecasting.\n",
      "  ' ignored when e.g. forecasting.', ValueWarning)\n"
     ]
    },
    {
     "data": {
      "image/png": "[encoded data removed]",
      "text/plain": [
       "<Figure size 432x288 with 1 Axes>"
      ]
     },
     "metadata": {
      "needs_background": "light"
     },
     "output_type": "display_data"
    }
   ],
   "source": [
    "y = temp['First Tooltip']\n",
    "model = ARIMA(y, order=(1, 0, 0))\n",
    "results_AR = model.fit(disp=-1)\n",
    "plt.plot(y)\n",
    "plt.plot(results_AR.fittedvalues, color='red')\n",
    "plt.show()"
   ]
  },
  {
   "cell_type": "code",
   "execution_count": 7,
   "metadata": {},
   "outputs": [
    {
     "data": {
      "text/plain": [
       "array([7.20994609, 7.19479388, 7.19939062, 7.1979961 , 7.19841916,\n",
       "       7.19829082, 7.19832975, 7.19831794, 7.19832152, 7.19832044])"
      ]
     },
     "execution_count": 7,
     "metadata": {},
     "output_type": "execute_result"
    }
   ],
   "source": [
    "results_AR.forecast(10)[0]"
   ]
  },
  {
   "cell_type": "code",
   "execution_count": 15,
   "metadata": {},
   "outputs": [
    {
     "data": {
      "text/html": [
       "<table class=\"simpletable\">\n",
       "<caption>ARMA Model Results</caption>\n",
       "<tr>\n",
       "  <th>Dep. Variable:</th>   <td>First Tooltip</td>  <th>  No. Observations:  </th>    <td>5</td>  \n",
       "</tr>\n",
       "<tr>\n",
       "  <th>Model:</th>            <td>ARMA(1, 0)</td>    <th>  Log Likelihood     </th> <td>-3.161</td>\n",
       "</tr>\n",
       "<tr>\n",
       "  <th>Method:</th>             <td>css-mle</td>     <th>  S.D. of innovations</th>  <td>0.451</td>\n",
       "</tr>\n",
       "<tr>\n",
       "  <th>Date:</th>          <td>Sun, 03 Apr 2022</td> <th>  AIC                </th> <td>12.322</td>\n",
       "</tr>\n",
       "<tr>\n",
       "  <th>Time:</th>              <td>15:09:10</td>     <th>  BIC                </th> <td>11.150</td>\n",
       "</tr>\n",
       "<tr>\n",
       "  <th>Sample:</th>                <td>0</td>        <th>  HQIC               </th>  <td>9.177</td>\n",
       "</tr>\n",
       "<tr>\n",
       "  <th></th>                       <td> </td>        <th>                     </th>    <td> </td>  \n",
       "</tr>\n",
       "</table>\n",
       "<table class=\"simpletable\">\n",
       "<tr>\n",
       "           <td></td>              <th>coef</th>     <th>std err</th>      <th>z</th>      <th>P>|z|</th>  <th>[0.025</th>    <th>0.975]</th>  \n",
       "</tr>\n",
       "<tr>\n",
       "  <th>const</th>               <td>    7.1983</td> <td>    0.168</td> <td>   42.911</td> <td> 0.000</td> <td>    6.870</td> <td>    7.527</td>\n",
       "</tr>\n",
       "<tr>\n",
       "  <th>ar.L1.First Tooltip</th> <td>   -0.3034</td> <td>    0.473</td> <td>   -0.642</td> <td> 0.521</td> <td>   -1.230</td> <td>    0.623</td>\n",
       "</tr>\n",
       "</table>\n",
       "<table class=\"simpletable\">\n",
       "<caption>Roots</caption>\n",
       "<tr>\n",
       "    <td></td>   <th>            Real</th>  <th>         Imaginary</th> <th>         Modulus</th>  <th>        Frequency</th>\n",
       "</tr>\n",
       "<tr>\n",
       "  <th>AR.1</th> <td>          -3.2963</td> <td>          +0.0000j</td> <td>           3.2963</td> <td>           0.5000</td>\n",
       "</tr>\n",
       "</table>"
      ],
      "text/plain": [
       "<class 'statsmodels.iolib.summary.Summary'>\n",
       "\"\"\"\n",
       "                              ARMA Model Results                              \n",
       "==============================================================================\n",
       "Dep. Variable:          First Tooltip   No. Observations:                    5\n",
       "Model:                     ARMA(1, 0)   Log Likelihood                  -3.161\n",
       "Method:                       css-mle   S.D. of innovations              0.451\n",
       "Date:                Sun, 03 Apr 2022   AIC                             12.322\n",
       "Time:                        15:09:10   BIC                             11.150\n",
       "Sample:                             0   HQIC                             9.177\n",
       "                                                                              \n",
       "=======================================================================================\n",
       "                          coef    std err          z      P>|z|      [0.025      0.975]\n",
       "---------------------------------------------------------------------------------------\n",
       "const                   7.1983      0.168     42.911      0.000       6.870       7.527\n",
       "ar.L1.First Tooltip    -0.3034      0.473     -0.642      0.521      -1.230       0.623\n",
       "                                    Roots                                    \n",
       "=============================================================================\n",
       "                  Real          Imaginary           Modulus         Frequency\n",
       "-----------------------------------------------------------------------------\n",
       "AR.1           -3.2963           +0.0000j            3.2963            0.5000\n",
       "-----------------------------------------------------------------------------\n",
       "\"\"\""
      ]
     },
     "execution_count": 15,
     "metadata": {},
     "output_type": "execute_result"
    }
   ],
   "source": [
    "\n",
    "start_index = '2000-01-01'\n",
    "end_index = '2015-01-01'\n",
    "results_AR.forecast(10)\n",
    "results_AR.summary()"
   ]
  },
  {
   "cell_type": "markdown",
   "metadata": {},
   "source": [
    "Decomposition"
   ]
  },
  {
   "cell_type": "code",
   "execution_count": 16,
   "metadata": {},
   "outputs": [
    {
     "data": {
      "image/png": "[encoded data removed]",
      "text/plain": [
       "<Figure size 432x288 with 4 Axes>"
      ]
     },
     "metadata": {
      "needs_background": "light"
     },
     "output_type": "display_data"
    }
   ],
   "source": [
    "decomposition = sm.tsa.seasonal_decompose(y, model='additive', period = 1)\n",
    "fig = decomposition.plot()\n",
    "plt.show()"
   ]
  },
  {
   "cell_type": "code",
   "execution_count": null,
   "metadata": {},
   "outputs": [],
   "source": []
  },
  {
   "cell_type": "code",
   "execution_count": null,
   "metadata": {},
   "outputs": [],
   "source": []
  },
  {
   "cell_type": "code",
   "execution_count": 11,
   "metadata": {},
   "outputs": [],
   "source": []
  },
  {
   "cell_type": "code",
   "execution_count": 6,
   "metadata": {},
   "outputs": [
    {
     "data": {
      "text/plain": [
       "[         Location  Period                                          Indicator  \\\n",
       " 0     Afghanistan    2018  Total (recorded+unrecorded) alcohol per capita...   \n",
       " 1     Afghanistan    2018  Total (recorded+unrecorded) alcohol per capita...   \n",
       " 2     Afghanistan    2018  Total (recorded+unrecorded) alcohol per capita...   \n",
       " 3     Afghanistan    2015  Total (recorded+unrecorded) alcohol per capita...   \n",
       " 4     Afghanistan    2015  Total (recorded+unrecorded) alcohol per capita...   \n",
       " ...           ...     ...                                                ...   \n",
       " 2782     Zimbabwe    2005  Total (recorded+unrecorded) alcohol per capita...   \n",
       " 2783     Zimbabwe    2005  Total (recorded+unrecorded) alcohol per capita...   \n",
       " 2784     Zimbabwe    2000  Total (recorded+unrecorded) alcohol per capita...   \n",
       " 2785     Zimbabwe    2000  Total (recorded+unrecorded) alcohol per capita...   \n",
       " 2786     Zimbabwe    2000  Total (recorded+unrecorded) alcohol per capita...   \n",
       " \n",
       "             Dim1  First Tooltip  \n",
       " 0     Both sexes          0.210  \n",
       " 1           Male          0.360  \n",
       " 2         Female          0.055  \n",
       " 3     Both sexes          0.210  \n",
       " 4           Male          0.350  \n",
       " ...          ...            ...  \n",
       " 2782        Male          4.720  \n",
       " 2783      Female          0.990  \n",
       " 2784  Both sexes          2.460  \n",
       " 2785        Male          4.160  \n",
       " 2786      Female          0.880  \n",
       " \n",
       " [2787 rows x 5 columns],\n",
       " 'alcoholSubstanceAbuse.csv']"
      ]
     },
     "execution_count": 6,
     "metadata": {},
     "output_type": "execute_result"
    }
   ],
   "source": [
    "data_lst[0]"
   ]
  },
  {
   "cell_type": "code",
   "execution_count": null,
   "metadata": {},
   "outputs": [],
   "source": []
  }
 ],
 "metadata": {
  "kernelspec": {
   "display_name": "Python 3",
   "language": "python",
   "name": "python3"
  },
  "language_info": {
   "codemirror_mode": {
    "name": "ipython",
    "version": 3
   },
   "file_extension": ".py",
   "mimetype": "text/x-python",
   "name": "python",
   "nbconvert_exporter": "python",
   "pygments_lexer": "ipython3",
   "version": "3.7.6"
  }
 },
 "nbformat": 4,
 "nbformat_minor": 4
}
